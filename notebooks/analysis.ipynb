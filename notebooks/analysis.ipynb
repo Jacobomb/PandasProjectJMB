{
 "cells": [
  {
   "cell_type": "markdown",
   "id": "72d2179f-fdfc-4b87-be19-bbf461aecb58",
   "metadata": {},
   "source": [
    "### Pandas project - attacks.csv analysis\n",
    "Jacobo Maté"
   ]
  },
  {
   "cell_type": "code",
   "execution_count": null,
   "id": "815c63b2-8ce1-4729-adb0-43a866e98881",
   "metadata": {},
   "outputs": [],
   "source": []
  },
  {
   "cell_type": "code",
   "execution_count": null,
   "id": "7d6c443e-b824-4242-b48f-388d9b525456",
   "metadata": {},
   "outputs": [],
   "source": []
  },
  {
   "cell_type": "code",
   "execution_count": null,
   "id": "39a5c055-edac-4afc-91bc-48ddec6e5a16",
   "metadata": {},
   "outputs": [],
   "source": []
  },
  {
   "cell_type": "code",
   "execution_count": null,
   "id": "d4923b94-7956-465a-bb54-7358bd1c4ebc",
   "metadata": {},
   "outputs": [],
   "source": []
  }
 ],
 "metadata": {
  "kernelspec": {
   "display_name": "clase",
   "language": "python",
   "name": "clase"
  },
  "language_info": {
   "codemirror_mode": {
    "name": "ipython",
    "version": 3
   },
   "file_extension": ".py",
   "mimetype": "text/x-python",
   "name": "python",
   "nbconvert_exporter": "python",
   "pygments_lexer": "ipython3",
   "version": "3.10.13"
  }
 },
 "nbformat": 4,
 "nbformat_minor": 5
}
