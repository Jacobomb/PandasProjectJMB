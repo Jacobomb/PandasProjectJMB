{
 "cells": [
  {
   "cell_type": "markdown",
   "id": "72d2179f-fdfc-4b87-be19-bbf461aecb58",
   "metadata": {},
   "source": [
    "### Pandas project - attacks.csv analysis\n",
    "Jacobo Maté"
   ]
  },
  {
   "cell_type": "code",
   "execution_count": 1,
   "id": "815c63b2-8ce1-4729-adb0-43a866e98881",
   "metadata": {},
   "outputs": [],
   "source": [
    "import numpy as np # Importamos paquetes\n",
    "import pandas as pd\n",
    "import matplotlib.pyplot as plt # He encntrado esta librería para graficar el numero de ataques que ha habido por año"
   ]
  },
  {
   "cell_type": "code",
   "execution_count": 2,
   "id": "7d6c443e-b824-4242-b48f-388d9b525456",
   "metadata": {},
   "outputs": [],
   "source": [
    "path = '../data/attacks_limpio.csv' # Definimos el path desde el que descargar el csv\n",
    "df = pd.read_csv(path, encoding = \"ISO-8859-1\")"
   ]
  },
  {
   "cell_type": "code",
   "execution_count": 3,
   "id": "39a5c055-edac-4afc-91bc-48ddec6e5a16",
   "metadata": {},
   "outputs": [
    {
     "data": {
      "text/html": [
       "<div>\n",
       "<style scoped>\n",
       "    .dataframe tbody tr th:only-of-type {\n",
       "        vertical-align: middle;\n",
       "    }\n",
       "\n",
       "    .dataframe tbody tr th {\n",
       "        vertical-align: top;\n",
       "    }\n",
       "\n",
       "    .dataframe thead th {\n",
       "        text-align: right;\n",
       "    }\n",
       "</style>\n",
       "<table border=\"1\" class=\"dataframe\">\n",
       "  <thead>\n",
       "    <tr style=\"text-align: right;\">\n",
       "      <th></th>\n",
       "      <th>casenumber</th>\n",
       "      <th>date</th>\n",
       "      <th>year</th>\n",
       "      <th>type</th>\n",
       "      <th>country</th>\n",
       "      <th>area</th>\n",
       "      <th>location</th>\n",
       "      <th>activity</th>\n",
       "      <th>name</th>\n",
       "      <th>sex</th>\n",
       "      <th>...</th>\n",
       "      <th>species</th>\n",
       "      <th>investigatororsource</th>\n",
       "      <th>pdf</th>\n",
       "      <th>hrefformula</th>\n",
       "      <th>href</th>\n",
       "      <th>casenumber.1</th>\n",
       "      <th>casenumber.2</th>\n",
       "      <th>originalorder</th>\n",
       "      <th>unnamed:22</th>\n",
       "      <th>unnamed:23</th>\n",
       "    </tr>\n",
       "  </thead>\n",
       "  <tbody>\n",
       "    <tr>\n",
       "      <th>0</th>\n",
       "      <td>2018.06.25</td>\n",
       "      <td>2018-06-25</td>\n",
       "      <td>2018</td>\n",
       "      <td>Boating</td>\n",
       "      <td>USA</td>\n",
       "      <td>California</td>\n",
       "      <td>Oceanside, San Diego County</td>\n",
       "      <td>paddling</td>\n",
       "      <td>Julie Wolfe</td>\n",
       "      <td>F</td>\n",
       "      <td>...</td>\n",
       "      <td>White shark</td>\n",
       "      <td>R. Collier, GSAF</td>\n",
       "      <td>2018.06.25-Wolfe.pdf</td>\n",
       "      <td>http://sharkattackfile.net/spreadsheets/pdf_di...</td>\n",
       "      <td>http://sharkattackfile.net/spreadsheets/pdf_di...</td>\n",
       "      <td>2018.06.25</td>\n",
       "      <td>2018.06.25</td>\n",
       "      <td>6303.0</td>\n",
       "      <td>NaN</td>\n",
       "      <td>NaN</td>\n",
       "    </tr>\n",
       "    <tr>\n",
       "      <th>1</th>\n",
       "      <td>2018.06.18</td>\n",
       "      <td>2018-06-18</td>\n",
       "      <td>2018</td>\n",
       "      <td>Unprovoked</td>\n",
       "      <td>USA</td>\n",
       "      <td>Georgia</td>\n",
       "      <td>St. Simon Island, Glynn County</td>\n",
       "      <td>standing</td>\n",
       "      <td>AdysonÂ McNeely</td>\n",
       "      <td>F</td>\n",
       "      <td>...</td>\n",
       "      <td>unknown</td>\n",
       "      <td>K.McMurray, TrackingSharks.com</td>\n",
       "      <td>2018.06.18-McNeely.pdf</td>\n",
       "      <td>http://sharkattackfile.net/spreadsheets/pdf_di...</td>\n",
       "      <td>http://sharkattackfile.net/spreadsheets/pdf_di...</td>\n",
       "      <td>2018.06.18</td>\n",
       "      <td>2018.06.18</td>\n",
       "      <td>6302.0</td>\n",
       "      <td>NaN</td>\n",
       "      <td>NaN</td>\n",
       "    </tr>\n",
       "    <tr>\n",
       "      <th>2</th>\n",
       "      <td>2018.06.09</td>\n",
       "      <td>2018-06-09</td>\n",
       "      <td>2018</td>\n",
       "      <td>Invalid</td>\n",
       "      <td>USA</td>\n",
       "      <td>Hawaii</td>\n",
       "      <td>Habush, Oahu</td>\n",
       "      <td>surfing</td>\n",
       "      <td>John Denges</td>\n",
       "      <td>M</td>\n",
       "      <td>...</td>\n",
       "      <td>unknown</td>\n",
       "      <td>K.McMurray, TrackingSharks.com</td>\n",
       "      <td>2018.06.09-Denges.pdf</td>\n",
       "      <td>http://sharkattackfile.net/spreadsheets/pdf_di...</td>\n",
       "      <td>http://sharkattackfile.net/spreadsheets/pdf_di...</td>\n",
       "      <td>2018.06.09</td>\n",
       "      <td>2018.06.09</td>\n",
       "      <td>6301.0</td>\n",
       "      <td>NaN</td>\n",
       "      <td>NaN</td>\n",
       "    </tr>\n",
       "    <tr>\n",
       "      <th>3</th>\n",
       "      <td>2018.06.08</td>\n",
       "      <td>2018-06-08</td>\n",
       "      <td>2018</td>\n",
       "      <td>Unprovoked</td>\n",
       "      <td>AUSTRALIA</td>\n",
       "      <td>New South Wales</td>\n",
       "      <td>Arrawarra Headland</td>\n",
       "      <td>surfing</td>\n",
       "      <td>male</td>\n",
       "      <td>M</td>\n",
       "      <td>...</td>\n",
       "      <td>2 m shark</td>\n",
       "      <td>B. Myatt, GSAF</td>\n",
       "      <td>2018.06.08-Arrawarra.pdf</td>\n",
       "      <td>http://sharkattackfile.net/spreadsheets/pdf_di...</td>\n",
       "      <td>http://sharkattackfile.net/spreadsheets/pdf_di...</td>\n",
       "      <td>2018.06.08</td>\n",
       "      <td>2018.06.08</td>\n",
       "      <td>6300.0</td>\n",
       "      <td>NaN</td>\n",
       "      <td>NaN</td>\n",
       "    </tr>\n",
       "    <tr>\n",
       "      <th>4</th>\n",
       "      <td>2018.06.04</td>\n",
       "      <td>2018-06-04</td>\n",
       "      <td>2018</td>\n",
       "      <td>Provoked</td>\n",
       "      <td>MEXICO</td>\n",
       "      <td>Colima</td>\n",
       "      <td>La Ticla</td>\n",
       "      <td>diving</td>\n",
       "      <td>Gustavo Ramos</td>\n",
       "      <td>M</td>\n",
       "      <td>...</td>\n",
       "      <td>Tiger shark, 3m</td>\n",
       "      <td>A .Kipper</td>\n",
       "      <td>2018.06.04-Ramos.pdf</td>\n",
       "      <td>http://sharkattackfile.net/spreadsheets/pdf_di...</td>\n",
       "      <td>http://sharkattackfile.net/spreadsheets/pdf_di...</td>\n",
       "      <td>2018.06.04</td>\n",
       "      <td>2018.06.04</td>\n",
       "      <td>6299.0</td>\n",
       "      <td>NaN</td>\n",
       "      <td>NaN</td>\n",
       "    </tr>\n",
       "  </tbody>\n",
       "</table>\n",
       "<p>5 rows × 24 columns</p>\n",
       "</div>"
      ],
      "text/plain": [
       "   casenumber        date  year        type    country             area  \\\n",
       "0  2018.06.25  2018-06-25  2018     Boating        USA       California   \n",
       "1  2018.06.18  2018-06-18  2018  Unprovoked        USA          Georgia   \n",
       "2  2018.06.09  2018-06-09  2018     Invalid        USA           Hawaii   \n",
       "3  2018.06.08  2018-06-08  2018  Unprovoked  AUSTRALIA  New South Wales   \n",
       "4  2018.06.04  2018-06-04  2018    Provoked     MEXICO           Colima   \n",
       "\n",
       "                         location  activity              name sex  ...  \\\n",
       "0     Oceanside, San Diego County  paddling       Julie Wolfe   F  ...   \n",
       "1  St. Simon Island, Glynn County  standing  AdysonÂ McNeely    F  ...   \n",
       "2                    Habush, Oahu   surfing       John Denges   M  ...   \n",
       "3              Arrawarra Headland   surfing              male   M  ...   \n",
       "4                        La Ticla    diving    Gustavo Ramos    M  ...   \n",
       "\n",
       "           species            investigatororsource                       pdf  \\\n",
       "0      White shark                R. Collier, GSAF      2018.06.25-Wolfe.pdf   \n",
       "1          unknown  K.McMurray, TrackingSharks.com    2018.06.18-McNeely.pdf   \n",
       "2          unknown  K.McMurray, TrackingSharks.com     2018.06.09-Denges.pdf   \n",
       "3        2 m shark                  B. Myatt, GSAF  2018.06.08-Arrawarra.pdf   \n",
       "4  Tiger shark, 3m                       A .Kipper      2018.06.04-Ramos.pdf   \n",
       "\n",
       "                                         hrefformula  \\\n",
       "0  http://sharkattackfile.net/spreadsheets/pdf_di...   \n",
       "1  http://sharkattackfile.net/spreadsheets/pdf_di...   \n",
       "2  http://sharkattackfile.net/spreadsheets/pdf_di...   \n",
       "3  http://sharkattackfile.net/spreadsheets/pdf_di...   \n",
       "4  http://sharkattackfile.net/spreadsheets/pdf_di...   \n",
       "\n",
       "                                                href casenumber.1  \\\n",
       "0  http://sharkattackfile.net/spreadsheets/pdf_di...   2018.06.25   \n",
       "1  http://sharkattackfile.net/spreadsheets/pdf_di...   2018.06.18   \n",
       "2  http://sharkattackfile.net/spreadsheets/pdf_di...   2018.06.09   \n",
       "3  http://sharkattackfile.net/spreadsheets/pdf_di...   2018.06.08   \n",
       "4  http://sharkattackfile.net/spreadsheets/pdf_di...   2018.06.04   \n",
       "\n",
       "  casenumber.2 originalorder unnamed:22 unnamed:23  \n",
       "0   2018.06.25        6303.0        NaN        NaN  \n",
       "1   2018.06.18        6302.0        NaN        NaN  \n",
       "2   2018.06.09        6301.0        NaN        NaN  \n",
       "3   2018.06.08        6300.0        NaN        NaN  \n",
       "4   2018.06.04        6299.0        NaN        NaN  \n",
       "\n",
       "[5 rows x 24 columns]"
      ]
     },
     "execution_count": 3,
     "metadata": {},
     "output_type": "execute_result"
    }
   ],
   "source": [
    "df.head()"
   ]
  },
  {
   "cell_type": "markdown",
   "id": "d4923b94-7956-465a-bb54-7358bd1c4ebc",
   "metadata": {},
   "source": [
    "#### Análisis temporal - `date`"
   ]
  },
  {
   "cell_type": "code",
   "execution_count": 6,
   "id": "cd3e9385",
   "metadata": {},
   "outputs": [],
   "source": [
    "# En primer lugar voy a definir una variable que recuente el número de ataques por año\n",
    "contador = df.groupby('year').size().reset_index(name='Contador ataques')"
   ]
  },
  {
   "cell_type": "code",
   "execution_count": 7,
   "id": "465badf6",
   "metadata": {},
   "outputs": [
    {
     "data": {
      "image/png": "[encoded data removed]",
      "text/plain": [
       "<Figure size 1200x600 with 1 Axes>"
      ]
     },
     "metadata": {},
     "output_type": "display_data"
    }
   ],
   "source": [
    "plt.figure(figsize=(12,6))\n",
    "plt.plot(contador['year'], contador['Contador ataques'])\n",
    "plt.xlabel('Año')\n",
    "plt.ylabel('Número de ataques')\n",
    "plt.title('Progreso de ataques a través del tiempo')\n",
    "plt.grid(True)\n",
    "plt.xticks(rotation=45)\n",
    "\n",
    "plt.show()\n"
   ]
  },
  {
   "cell_type": "markdown",
   "id": "47ba4504",
   "metadata": {},
   "source": [
    "De esta gráfica podemos ver un aumento considerable desde el comienzo de la toma de datos, aunque esto seguramente se deba a que antaño no se recogían tantos datos como ahora. Además, debido a la globalización y la evolución de los deportes acuáticos es más común que haya gente en el agua y por tanto es mas posible que se den ataques.\n",
    "Por otro lado, resulta interesante ver los dos picos de ataque que se dan alrededor de los años sesenta y otro todavía mas pronunciado desde el 2010 hasta el 2020."
   ]
  },
  {
   "cell_type": "markdown",
   "id": "7130732e",
   "metadata": {},
   "source": [
    "#### Análisis por actividad"
   ]
  },
  {
   "cell_type": "code",
   "execution_count": 10,
   "id": "e60d2fe8",
   "metadata": {},
   "outputs": [
    {
     "data": {
      "text/plain": [
       "activity\n",
       "surfing           1137\n",
       "swimming           886\n",
       "fishing            795\n",
       "diving             420\n",
       "Surfing            206\n",
       "wading             123\n",
       "bathing            104\n",
       "standing            87\n",
       "snorkeling          76\n",
       "kayaking            31\n",
       "treading water      28\n",
       "walking             14\n",
       "sea disaster        13\n",
       "floating            12\n",
       "rowing              11\n",
       "Name: count, dtype: int64"
      ]
     },
     "execution_count": 10,
     "metadata": {},
     "output_type": "execute_result"
    }
   ],
   "source": [
    "# Vamos a agrupar los datos por la actividad que estaba realizando la víctima en el momento del ataque y contar el número de ataques para estos casos.\n",
    "df.activity.value_counts().head(15)"
   ]
  },
  {
   "cell_type": "markdown",
   "id": "f07e6758",
   "metadata": {},
   "source": [
    "Aquí se muestran las 15 actividades con más casos. Destaca por encima de todas el surf, con una amplia mayoría de los casos. También le siguen el nado y la pesca."
   ]
  },
  {
   "cell_type": "code",
   "execution_count": null,
   "id": "d17050b8",
   "metadata": {},
   "outputs": [],
   "source": []
  },
  {
   "cell_type": "code",
   "execution_count": null,
   "id": "738f4cf2",
   "metadata": {},
   "outputs": [],
   "source": []
  },
  {
   "cell_type": "code",
   "execution_count": null,
   "id": "22f90e17",
   "metadata": {},
   "outputs": [],
   "source": []
  }
 ],
 "metadata": {
  "kernelspec": {
   "display_name": "clase",
   "language": "python",
   "name": "clase"
  },
  "language_info": {
   "codemirror_mode": {
    "name": "ipython",
    "version": 3
   },
   "file_extension": ".py",
   "mimetype": "text/x-python",
   "name": "python",
   "nbconvert_exporter": "python",
   "pygments_lexer": "ipython3",
   "version": "3.10.13"
  }
 },
 "nbformat": 4,
 "nbformat_minor": 5
}
